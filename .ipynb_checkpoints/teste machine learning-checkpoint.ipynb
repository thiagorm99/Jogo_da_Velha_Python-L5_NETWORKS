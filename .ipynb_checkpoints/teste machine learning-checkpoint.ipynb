{
 "cells": [
  {
   "cell_type": "code",
   "execution_count": 19,
   "id": "7a351766-1b08-4a64-a027-c0cb20a1adb3",
   "metadata": {},
   "outputs": [],
   "source": [
    "import sqlite3\n",
    "import json\n",
    "import numpy as np\n",
    "import pandas as pd\n",
    "from sklearn.tree import DecisionTreeClassifier\n",
    "import pickle\n",
    "pd.set_option('future.no_silent_downcasting', True)\n",
    "\n",
    "# Conectar ao banco de dados SQLite\n",
    "con = sqlite3.connect('db.db')\n",
    "cursor = con.cursor()\n",
    "\n",
    "# Selecionar todas as partidas finalizadas\n",
    "cursor.execute(\"SELECT partida, status FROM partidas\")\n",
    "partidas = cursor.fetchall()"
   ]
  },
  {
   "cell_type": "code",
   "execution_count": 20,
   "id": "92dda12f-1855-4cef-b02e-98cddc246c3a",
   "metadata": {},
   "outputs": [],
   "source": [
    "X = []  # Estados do tabuleiro\n",
    "y = []  # Movimentos feitos por \"O\"\n",
    "\n",
    "for partida_json, status in partidas:\n",
    "    # Carregar o tabuleiro final\n",
    "    tabuleiro_final = json.loads(partida_json)\n",
    "    tabuleiro = pd.DataFrame(tabuleiro_final)\n",
    "\n",
    "    # Transformar o tabuleiro final em uma matriz numérica\n",
    "    estado_atual = tabuleiro.replace({\"X\": 1, \"O\": 2, None: 0}).to_numpy()\n",
    "\n",
    "    # Iterar sobre os movimentos da partida (reconstruir o jogo)\n",
    "    for i in range(3):  # Assumindo que o tabuleiro tem 3x3\n",
    "        for j in range(3):\n",
    "            if tabuleiro.iloc[i, j] == \"O\":  # Identificar movimentos de \"O\"\n",
    "                # Estado do tabuleiro antes do movimento\n",
    "                estado_anterior = estado_atual.copy()\n",
    "                estado_anterior[i, j] = 0  # Remover o movimento para simular estado anterior\n",
    "\n",
    "                # Adicionar o estado e o movimento ao dataset\n",
    "                #print(estado_anterior)\n",
    "                X.append(estado_anterior.flatten())\n",
    "                y.append(i * 3 + j)  # Movimento é representado como índice único (0-8)\n",
    "\n",
    "# Fechar conexão\n",
    "con.close()\n",
    "\n",
    "# Converter para arrays numpy\n",
    "x = np.array(X)\n",
    "y = np.array(y)\n"
   ]
  },
  {
   "cell_type": "code",
   "execution_count": 7,
   "id": "274b9be5-7cf4-4753-b50f-8f4dffc1e262",
   "metadata": {},
   "outputs": [
    {
     "name": "stdout",
     "output_type": "stream",
     "text": [
      "[[1 0 0 1 0 2 1 0 0]\n",
      " [1 0 0 1 2 0 1 0 0]\n",
      " [1 1 0 2 1 1 2 2 1]\n",
      " [1 1 2 0 1 1 2 2 1]\n",
      " [1 1 2 2 1 1 0 2 1]\n",
      " [1 1 2 2 1 1 2 0 1]\n",
      " [1 1 1 0 1 2 0 2 0]\n",
      " [1 1 1 2 1 0 0 2 0]\n",
      " [1 1 1 2 1 2 0 0 0]\n",
      " [0 0 1 0 1 2 1 1 2]\n",
      " [0 2 1 0 1 0 1 1 2]\n",
      " [0 2 1 0 1 2 1 1 0]\n",
      " [0 1 2 1 1 1 1 2 2]\n",
      " [2 1 0 1 1 1 1 2 2]\n",
      " [2 1 2 1 1 1 1 0 2]\n",
      " [2 1 2 1 1 1 1 2 0]\n",
      " [1 1 1 0 1 0 0 2 2]\n",
      " [1 1 1 0 1 2 0 0 2]\n",
      " [1 1 1 0 1 2 0 2 0]\n",
      " [1 1 0 1 1 2 2 0 2]\n",
      " [1 1 2 1 1 0 2 0 2]\n",
      " [1 1 2 1 1 2 0 0 2]\n",
      " [1 1 2 1 1 2 2 0 0]\n",
      " [0 2 2 0 1 1 2 1 1]\n",
      " [2 0 2 0 1 1 2 1 1]\n",
      " [2 2 0 0 1 1 2 1 1]\n",
      " [2 2 2 0 1 1 0 1 1]\n",
      " [1 1 1 0 0 0 0 2 0]\n",
      " [1 1 1 0 2 0 0 0 0]\n",
      " [1 0 1 0 2 2 1 1 2]\n",
      " [1 0 1 2 0 2 1 1 2]\n",
      " [1 0 1 2 2 0 1 1 2]\n",
      " [1 0 1 2 2 2 1 1 0]\n",
      " [0 2 1 1 2 1 1 0 2]\n",
      " [2 0 1 1 2 1 1 0 2]\n",
      " [2 2 1 1 0 1 1 0 2]\n",
      " [2 2 1 1 2 1 1 0 0]\n",
      " [0 0 0 1 1 1 2 2 1]\n",
      " [2 0 0 1 1 1 0 2 1]\n",
      " [2 0 0 1 1 1 2 0 1]\n",
      " [1 1 0 1 1 2 2 0 2]\n",
      " [1 1 2 1 1 0 2 0 2]\n",
      " [1 1 2 1 1 2 0 0 2]\n",
      " [1 1 2 1 1 2 2 0 0]]\n"
     ]
    }
   ],
   "source": [
    "print(X)"
   ]
  },
  {
   "cell_type": "code",
   "execution_count": 24,
   "id": "1152fdb9-aebe-400b-b7a5-6f98ac36918b",
   "metadata": {},
   "outputs": [
    {
     "name": "stdout",
     "output_type": "stream",
     "text": [
      "Modelo treinado e salvo!\n"
     ]
    }
   ],
   "source": [
    "# Treinar o modelo\n",
    "clf = DecisionTreeClassifier(max_depth=2)\n",
    "clf.fit(X, y)\n",
    "\n",
    "# Salvar o modelo para uso posterior\n",
    "with open('modelo_ml.pkl', 'rb') as file:\n",
    "    modelo_ml = pickle.load(file)\n",
    "\n",
    "print(\"Modelo treinado e salvo!\")"
   ]
  },
  {
   "cell_type": "code",
   "execution_count": null,
   "id": "008aa0f3-8a0c-4dfc-a85d-ab5884c76f45",
   "metadata": {},
   "outputs": [],
   "source": []
  }
 ],
 "metadata": {
  "kernelspec": {
   "display_name": "Python 3 (ipykernel)",
   "language": "python",
   "name": "python3"
  },
  "language_info": {
   "codemirror_mode": {
    "name": "ipython",
    "version": 3
   },
   "file_extension": ".py",
   "mimetype": "text/x-python",
   "name": "python",
   "nbconvert_exporter": "python",
   "pygments_lexer": "ipython3",
   "version": "3.12.2"
  }
 },
 "nbformat": 4,
 "nbformat_minor": 5
}
